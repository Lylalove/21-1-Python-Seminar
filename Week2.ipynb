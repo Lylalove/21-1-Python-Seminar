{
 "cells": [
  {
   "cell_type": "markdown",
   "metadata": {},
   "source": [
    "## Type Conversion"
   ]
  },
  {
   "cell_type": "markdown",
   "metadata": {},
   "source": [
    "### Number -> String"
   ]
  },
  {
   "cell_type": "code",
   "execution_count": null,
   "metadata": {},
   "outputs": [],
   "source": [
    "# int\n",
    "num = 17\n",
    "num_to_string = str(num)\n",
    "\n",
    "print(num, type(num))\n",
    "print(num_to_string, type(num_to_string))"
   ]
  },
  {
   "cell_type": "code",
   "execution_count": null,
   "metadata": {},
   "outputs": [],
   "source": [
    "# float \n",
    "num = 28.068\n",
    "num_to_string = str(num)\n",
    "\n",
    "print(num, type(num))\n",
    "print(num_to_string, type(num_to_string))"
   ]
  },
  {
   "cell_type": "code",
   "execution_count": null,
   "metadata": {},
   "outputs": [],
   "source": [
    "# complex \n",
    "num = 2 + 4j\n",
    "num_to_string = str(num)\n",
    "\n",
    "print(num, type(num))\n",
    "print(num_to_string, type(num_to_string))"
   ]
  },
  {
   "cell_type": "markdown",
   "metadata": {},
   "source": [
    "### String -> Number"
   ]
  },
  {
   "cell_type": "code",
   "execution_count": null,
   "metadata": {},
   "outputs": [],
   "source": [
    "# integer in string\n",
    "string = \"29\"\n",
    "str_to_int = int(string)\n",
    "str_to_float = float(string)\n",
    "str_to_complex = complex(string)\n",
    "\n",
    "print(string, type(string))\n",
    "print(str_to_int, type(str_to_int))\n",
    "print(str_to_float, type(str_to_float))\n",
    "print(str_to_complex, type(str_to_complex))"
   ]
  },
  {
   "cell_type": "code",
   "execution_count": null,
   "metadata": {},
   "outputs": [],
   "source": [
    "# float in string\n",
    "string = \"29.80\"\n",
    "string = \"29.0\"\n",
    "str_to_int = int(string)\n",
    "str_to_float = float(string)\n",
    "str_to_complex = complex(string)\n",
    "\n",
    "print(string, type(string))\n",
    "print(str_to_int, type(str_to_int))\n",
    "print(str_to_float, type(str_to_float))\n",
    "print(str_to_complex, type(str_to_complex))"
   ]
  },
  {
   "cell_type": "code",
   "execution_count": null,
   "metadata": {},
   "outputs": [],
   "source": [
    "# complex in string\n",
    "string = \"0+0j\"\n",
    "string = \"51 + 7j\"\n",
    "str_to_int = int(string)\n",
    "str_to_float = float(string)\n",
    "str_to_complex = complex(string)\n",
    "\n",
    "print(string, type(string))\n",
    "print(str_to_int, type(str_to_int))\n",
    "print(str_to_float, type(str_to_float))\n",
    "print(str_to_complex, type(str_to_complex))"
   ]
  },
  {
   "cell_type": "markdown",
   "metadata": {},
   "source": [
    "## 입력\n",
    "input() - 입력되는 모든 것은 문자열로 인식함. "
   ]
  },
  {
   "cell_type": "code",
   "execution_count": null,
   "metadata": {},
   "outputs": [],
   "source": [
    "a = input()\n",
    "print(a, type(a))"
   ]
  },
  {
   "cell_type": "code",
   "execution_count": null,
   "metadata": {},
   "outputs": [],
   "source": [
    "b = input(\"press any integer: \")\n",
    "print(b, type(b))"
   ]
  },
  {
   "cell_type": "code",
   "execution_count": null,
   "metadata": {},
   "outputs": [],
   "source": [
    "c = int(input(\"숫자를 입력하세요: \"))\n",
    "print(c, type(c))"
   ]
  },
  {
   "cell_type": "markdown",
   "metadata": {},
   "source": [
    "## Condition"
   ]
  },
  {
   "cell_type": "markdown",
   "metadata": {},
   "source": [
    "## 1. Boolean"
   ]
  },
  {
   "cell_type": "markdown",
   "metadata": {},
   "source": [
    "## Comparison Operators\n",
    "- \\>   \n",
    "- \\<  \n",
    "- \\>=  \n",
    "- \\<=   \n",
    "- \\==  \n",
    "- \\!="
   ]
  },
  {
   "cell_type": "markdown",
   "metadata": {},
   "source": [
    "### - True"
   ]
  },
  {
   "cell_type": "code",
   "execution_count": null,
   "metadata": {},
   "outputs": [],
   "source": [
    "19 > -6"
   ]
  },
  {
   "cell_type": "code",
   "execution_count": null,
   "metadata": {},
   "outputs": [],
   "source": [
    "29 < 700"
   ]
  },
  {
   "cell_type": "code",
   "execution_count": null,
   "metadata": {},
   "outputs": [],
   "source": [
    "19 >= 8.0"
   ]
  },
  {
   "cell_type": "code",
   "execution_count": null,
   "metadata": {},
   "outputs": [],
   "source": [
    "a = \"19\"\n",
    "b = \"19\"\n",
    "print(a == b)"
   ]
  },
  {
   "cell_type": "markdown",
   "metadata": {},
   "source": [
    "### - False"
   ]
  },
  {
   "cell_type": "code",
   "execution_count": null,
   "metadata": {},
   "outputs": [],
   "source": [
    "19 > 29"
   ]
  },
  {
   "cell_type": "code",
   "execution_count": null,
   "metadata": {},
   "outputs": [],
   "source": [
    "200 < 31"
   ]
  },
  {
   "cell_type": "code",
   "execution_count": null,
   "metadata": {},
   "outputs": [],
   "source": [
    "26 <= -4"
   ]
  },
  {
   "cell_type": "markdown",
   "metadata": {},
   "source": [
    "## Logic Operators\n",
    "- and  \n",
    "- or  \n",
    "- not  "
   ]
  },
  {
   "cell_type": "code",
   "execution_count": null,
   "metadata": {},
   "outputs": [],
   "source": [
    "a = True and True\n",
    "print(a)\n",
    "\n",
    "a = False or False\n",
    "print(a)\n",
    "\n",
    "a = not(True)\n",
    "print(a)"
   ]
  },
  {
   "cell_type": "code",
   "execution_count": null,
   "metadata": {},
   "outputs": [],
   "source": [
    "a = 20\n",
    "b = 30\n",
    "c = 40\n",
    "cond1 = (a > b) and (a > c)\n",
    "cond2 = (a > b) or (a > c)\n",
    "cond_not = not(a > b)\n",
    "\n",
    "print(cond1)\n",
    "print(cond2)\n",
    "print(cond_not)"
   ]
  },
  {
   "cell_type": "code",
   "execution_count": null,
   "metadata": {},
   "outputs": [],
   "source": [
    "cond3 = not(a > b) and (a > c)\n",
    "print(cond3)"
   ]
  },
  {
   "cell_type": "markdown",
   "metadata": {},
   "source": [
    "## 2. If, Else, Elif"
   ]
  },
  {
   "cell_type": "markdown",
   "metadata": {},
   "source": [
    "### - if"
   ]
  },
  {
   "cell_type": "code",
   "execution_count": 7,
   "metadata": {},
   "outputs": [
    {
     "name": "stdout",
     "output_type": "stream",
     "text": [
      "inside is running\n"
     ]
    }
   ],
   "source": [
    "if True:\n",
    "    print('inside is running')"
   ]
  },
  {
   "cell_type": "code",
   "execution_count": 6,
   "metadata": {},
   "outputs": [],
   "source": [
    "if False:\n",
    "    print('inside is running')"
   ]
  },
  {
   "cell_type": "markdown",
   "metadata": {},
   "source": [
    "### -else"
   ]
  },
  {
   "cell_type": "code",
   "execution_count": 8,
   "metadata": {},
   "outputs": [
    {
     "name": "stdout",
     "output_type": "stream",
     "text": [
      "inside else is executing\n"
     ]
    }
   ],
   "source": [
    "if False:\n",
    "    print(\"inside if is executing\")\n",
    "else:\n",
    "    print(\"inside else is executing\")"
   ]
  },
  {
   "cell_type": "markdown",
   "metadata": {},
   "source": [
    "### - elif"
   ]
  },
  {
   "cell_type": "code",
   "execution_count": 11,
   "metadata": {},
   "outputs": [
    {
     "name": "stdout",
     "output_type": "stream",
     "text": [
      "else if is running\n"
     ]
    }
   ],
   "source": [
    "if False:\n",
    "    print('if is executing')\n",
    "else:\n",
    "    if True:\n",
    "        print('else if is running')\n",
    "    else:\n",
    "        print('else else is running')"
   ]
  },
  {
   "cell_type": "code",
   "execution_count": 15,
   "metadata": {},
   "outputs": [
    {
     "name": "stdout",
     "output_type": "stream",
     "text": [
      "elif is executing\n"
     ]
    }
   ],
   "source": [
    "if False:\n",
    "    print(\"if is executing\")\n",
    "elif True:\n",
    "    print('elif is executing')\n",
    "else:\n",
    "    print('else else is executing')"
   ]
  },
  {
   "cell_type": "code",
   "execution_count": 18,
   "metadata": {},
   "outputs": [
    {
     "name": "stdout",
     "output_type": "stream",
     "text": [
      "elif is executing\n"
     ]
    }
   ],
   "source": [
    "if False: print(\"if is executing\") # print('hi')\n",
    "elif True: print('elif is executing')\n",
    "else: print('else else is executing')"
   ]
  },
  {
   "cell_type": "code",
   "execution_count": 14,
   "metadata": {},
   "outputs": [
    {
     "name": "stdout",
     "output_type": "stream",
     "text": [
      "20\n",
      "20 is positive\n"
     ]
    }
   ],
   "source": [
    "a = int(input())\n",
    "if (a > 0):\n",
    "    print(a, \"is positive\")\n",
    "elif (a == 0):\n",
    "    print(a, \"is zero\")\n",
    "else:\n",
    "    print(a, \"is negative\")"
   ]
  },
  {
   "cell_type": "code",
   "execution_count": 1,
   "metadata": {},
   "outputs": [
    {
     "name": "stdout",
     "output_type": "stream",
     "text": [
      "true\n"
     ]
    }
   ],
   "source": [
    "a = \"true\" if True else \"false\"\n",
    "print(a)"
   ]
  },
  {
   "cell_type": "code",
   "execution_count": 3,
   "metadata": {},
   "outputs": [
    {
     "name": "stdout",
     "output_type": "stream",
     "text": [
      "false\n"
     ]
    }
   ],
   "source": [
    "a = \"true\" if False else \"false\"\n",
    "print(a)"
   ]
  },
  {
   "cell_type": "code",
   "execution_count": null,
   "metadata": {},
   "outputs": [],
   "source": [
    "print('if is running') if True else print('else is running')"
   ]
  },
  {
   "cell_type": "code",
   "execution_count": null,
   "metadata": {},
   "outputs": [],
   "source": [
    "print('if is running') if False else print('else is running')"
   ]
  },
  {
   "cell_type": "markdown",
   "metadata": {},
   "source": [
    "## 연습문제 \n",
    "\n",
    "### [1. 시험 성적](https://www.acmicpc.net/problem/9498)  \n",
    "### [2. 윤년](https://www.acmicpc.net/problem/2753)  \n",
    "### [3. 알람 시계](https://www.acmicpc.net/problem/2884)"
   ]
  },
  {
   "cell_type": "code",
   "execution_count": null,
   "metadata": {},
   "outputs": [],
   "source": []
  }
 ],
 "metadata": {
  "kernelspec": {
   "display_name": "Python 3",
   "language": "python",
   "name": "python3"
  },
  "language_info": {
   "codemirror_mode": {
    "name": "ipython",
    "version": 3
   },
   "file_extension": ".py",
   "mimetype": "text/x-python",
   "name": "python",
   "nbconvert_exporter": "python",
   "pygments_lexer": "ipython3",
   "version": "3.8.3"
  }
 },
 "nbformat": 4,
 "nbformat_minor": 4
}
