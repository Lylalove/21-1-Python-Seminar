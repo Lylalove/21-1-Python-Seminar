{
 "cells": [
  {
   "cell_type": "markdown",
   "metadata": {},
   "source": [
    "## 출력"
   ]
  },
  {
   "cell_type": "markdown",
   "metadata": {},
   "source": [
    "### print()"
   ]
  },
  {
   "cell_type": "code",
   "execution_count": null,
   "metadata": {},
   "outputs": [],
   "source": [
    "print('hi')\n",
    "print(3)\n",
    "print(True)"
   ]
  },
  {
   "cell_type": "code",
   "execution_count": null,
   "metadata": {},
   "outputs": [],
   "source": [
    "print('There are ', 3,' apples.')"
   ]
  },
  {
   "cell_type": "markdown",
   "metadata": {},
   "source": [
    "\\' : 따옴표 문자  \n",
    "\\\" : 쌍따옴표 문자  \n",
    "\\ : backslash 문자  \n",
    "\\a : bell 문자  \n",
    "\\b : backslash 문자  \n",
    "\\f : Formfeed 문자  \n",
    "\\n : newline 문 \\r : carriage return 문자(\\n와 동일하지 않다.)  \n",
    "\\t : tab 문자  \n",
    "\\v : vertical tab 문자  "
   ]
  },
  {
   "cell_type": "code",
   "execution_count": null,
   "metadata": {
    "scrolled": true
   },
   "outputs": [],
   "source": [
    "print(\"\\\"abc\\'\\n\")"
   ]
  },
  {
   "cell_type": "markdown",
   "metadata": {},
   "source": [
    "### 형식이 있는 format"
   ]
  },
  {
   "cell_type": "code",
   "execution_count": null,
   "metadata": {},
   "outputs": [],
   "source": [
    "print(\"There are %d %s.\"%(10, \"apples\"))"
   ]
  },
  {
   "cell_type": "code",
   "execution_count": null,
   "metadata": {},
   "outputs": [],
   "source": [
    "print(\"There are {} {}.\".format(3, 'apples'))"
   ]
  },
  {
   "cell_type": "code",
   "execution_count": null,
   "metadata": {},
   "outputs": [],
   "source": [
    "print(\"There are {0} {1}.\".format(3, 'apples'))\n",
    "print(\"There are {0} {0}.\".format(3, 'apples'))\n",
    "print(\"There are {1} {0}.\".format(3, 'apples'))"
   ]
  },
  {
   "cell_type": "code",
   "execution_count": null,
   "metadata": {},
   "outputs": [],
   "source": [
    "print(\"There are {number} {fruit}.\".format(number = 3, fruit = \"apples\"))"
   ]
  },
  {
   "cell_type": "code",
   "execution_count": null,
   "metadata": {},
   "outputs": [],
   "source": [
    "print('-'* 20)"
   ]
  },
  {
   "cell_type": "markdown",
   "metadata": {},
   "source": [
    "## 기본 자료형\n",
    "\n",
    "- Numbers (이번)\n",
    "- Strings (이번)\n",
    "- List (이번)\n",
    "- Bool (이번)\n",
    "- Dictionary\n",
    "- Tuple\n",
    "- Set\n",
    "\n",
    "tuple is immutable. element 자체가 mutuable 한 데이터 타입이 아니라면 변화 불가능.\n",
    "reassign 은 가능. \n",
    "1,2,\n",
    "(1,\"hi\")\n",
    "set 은 중복 불가능. 집합과 같은 개념. \n",
    "{1,\"hey\"}\n",
    "list 는 [] 다른 데이터 타입 담을 수 있음. "
   ]
  },
  {
   "cell_type": "code",
   "execution_count": null,
   "metadata": {},
   "outputs": [],
   "source": [
    "type(6.0)\n",
    "# print(type([1,2,]))\n",
    "# type([1,2])"
   ]
  },
  {
   "cell_type": "code",
   "execution_count": null,
   "metadata": {
    "scrolled": true
   },
   "outputs": [],
   "source": [
    "print(\"hi\")\n",
    "print('hi')\n",
    "print(\"\"\"hi\"\"\")\n",
    "print('''hi''')"
   ]
  },
  {
   "cell_type": "markdown",
   "metadata": {},
   "source": [
    "## Numbers and Strings"
   ]
  },
  {
   "cell_type": "markdown",
   "metadata": {},
   "source": [
    "## 1. Numbers (Integer, Float, Complex)\n",
    "정수, 실수, 복소수"
   ]
  },
  {
   "cell_type": "markdown",
   "metadata": {},
   "source": [
    "### 정수형 (int)\n",
    "- 양의 정수, 0, 음의 정수를 말합니다. 소수이하 값이 없는 자료형입니다.\n",
    "- 파이썬에서 정수의 값은 비트 수에 의해 제한되지 않고 사용 가능한 메모리의 한계까지 확장 될 수 있습니다 . 따라서 큰 수를 저장하기위한 특별한 배열을 필요로하지 않습니다."
   ]
  },
  {
   "cell_type": "markdown",
   "metadata": {},
   "source": [
    "### 실수형 (float)\n",
    "- 실수형(Floating)은 소수점이 포함된 숫자를 말합니다.\n",
    "- 부동 소수점 숫자는 소수점 이하 15 자리까지 정확합니다.\n",
    "- 정수 및 부동 소수점은 소수점으로 구분됩니다. 1정수, 1.0부동 소수점 숫자입니다."
   ]
  },
  {
   "cell_type": "markdown",
   "metadata": {},
   "source": [
    "### 복소수형 (complex)\n",
    "- x + yj 처럼 복소수 형태로 쓰여집니다. i가 아니라 j입니다.\n",
    "- x 는 실수 부분이고 y 는 허수 부분입니다.\n",
    "- 실수부와 허수부를 따로 분리가 가능합니다.\n",
    "- 복소수끼리의 연산도 지원 합니다. +-*/"
   ]
  },
  {
   "cell_type": "markdown",
   "metadata": {},
   "source": [
    "### - Basic Operator : +, -, *, /"
   ]
  },
  {
   "cell_type": "code",
   "execution_count": null,
   "metadata": {},
   "outputs": [],
   "source": [
    "print(4 + 2)\n",
    "print(4 - 2)\n",
    "print(4 * 2)\n",
    "print(4 / 2)"
   ]
  },
  {
   "cell_type": "markdown",
   "metadata": {},
   "source": [
    "### - Special Operators : //, %, **"
   ]
  },
  {
   "cell_type": "code",
   "execution_count": null,
   "metadata": {},
   "outputs": [],
   "source": [
    "print(5 // 2)\n",
    "print(5 % 2)\n",
    "print(5 ** 2)"
   ]
  },
  {
   "cell_type": "markdown",
   "metadata": {},
   "source": [
    "### 연습문제\n",
    "\n",
    "1번 문제\n",
    "A나라에서는 월급의 3.75%를 세금으로 내야한다.  \n",
    "이모군의 월급이 300원이라고 할 때, 내야할 세금은 얼마인가? (단위 : 원)  \n",
    "\n",
    "2번 문제  \n",
    "이모군은 연말 정산으로 1년동안 낸 세금의 30%를 환급받는다고 한다.  \n",
    "이때, 이모군이 환급받게 되는 금액은 얼마인가? (단위 : 원)"
   ]
  },
  {
   "cell_type": "code",
   "execution_count": null,
   "metadata": {},
   "outputs": [],
   "source": [
    "# answer_1 = "
   ]
  },
  {
   "cell_type": "code",
   "execution_count": null,
   "metadata": {},
   "outputs": [],
   "source": [
    "# answer_2 = "
   ]
  },
  {
   "cell_type": "markdown",
   "metadata": {},
   "source": [
    "## 2. String"
   ]
  },
  {
   "cell_type": "code",
   "execution_count": null,
   "metadata": {},
   "outputs": [],
   "source": [
    "string"
   ]
  },
  {
   "cell_type": "markdown",
   "metadata": {},
   "source": [
    "### - Quotes : ' ', \" \", ''' ''', \"\"\" \"\"\""
   ]
  },
  {
   "cell_type": "code",
   "execution_count": null,
   "metadata": {},
   "outputs": [],
   "source": [
    "print('string')\n",
    "print(\"string\")\n",
    "print('''string''')\n",
    "print(\"\"\"string\"\"\")"
   ]
  },
  {
   "cell_type": "markdown",
   "metadata": {},
   "source": [
    "### - length of string len()"
   ]
  },
  {
   "cell_type": "code",
   "execution_count": null,
   "metadata": {},
   "outputs": [],
   "source": [
    "welcome = 'Welcome to Python Seminar!'\n",
    "len(welcome)"
   ]
  },
  {
   "cell_type": "markdown",
   "metadata": {},
   "source": [
    "### - Concatenate : +, *"
   ]
  },
  {
   "cell_type": "code",
   "execution_count": null,
   "metadata": {},
   "outputs": [],
   "source": [
    "a = 'um'\n",
    "b = '.'\n",
    "c = 3*a + 5*b\n",
    "print(c)"
   ]
  },
  {
   "cell_type": "markdown",
   "metadata": {},
   "source": [
    "### - Indexing"
   ]
  },
  {
   "cell_type": "code",
   "execution_count": null,
   "metadata": {},
   "outputs": [],
   "source": [
    "e = 'Python'\n",
    "print(e[0])\n",
    "print(e[1])\n",
    "print(e[2])\n",
    "print(e[3])\n",
    "print(e[4])\n",
    "print(e[5])"
   ]
  },
  {
   "cell_type": "code",
   "execution_count": null,
   "metadata": {},
   "outputs": [],
   "source": [
    "print(e[6])"
   ]
  },
  {
   "cell_type": "code",
   "execution_count": null,
   "metadata": {},
   "outputs": [],
   "source": [
    "print([e[-1]])\n",
    "print([e[-2]])\n",
    "print([e[-3]])\n",
    "print([e[-4]])\n",
    "print([e[-5]])\n",
    "print([e[-6]])"
   ]
  },
  {
   "cell_type": "code",
   "execution_count": null,
   "metadata": {},
   "outputs": [],
   "source": [
    "print(e[-7])"
   ]
  },
  {
   "cell_type": "markdown",
   "metadata": {},
   "source": [
    "### - Slicing\n",
    "문자열[n:m]  \n",
    "[n] : 1글자 잘라내기  \n",
    "[n:m] : n부터 m-1까지 문자열을 리턴합니다.  \n",
    "[:m] : 앞의 숫자를 생략하면 0부터 시작합니다.  \n",
    "[n:] : 뒤의 숫자를 생략하면 끝 글자까지 입니다.  \n",
    "[:] : 모두 생략하면 전체입니다.  \n",
    "[-n] : 음수 값을 지정하면 뒤에서부터 카운팅합니다.  "
   ]
  },
  {
   "cell_type": "code",
   "execution_count": null,
   "metadata": {},
   "outputs": [],
   "source": [
    "e[0:2]"
   ]
  },
  {
   "cell_type": "code",
   "execution_count": null,
   "metadata": {},
   "outputs": [],
   "source": [
    "e[-4:-2]"
   ]
  },
  {
   "cell_type": "code",
   "execution_count": null,
   "metadata": {},
   "outputs": [],
   "source": [
    "e[-4:6]"
   ]
  },
  {
   "cell_type": "code",
   "execution_count": null,
   "metadata": {},
   "outputs": [],
   "source": [
    "e[6:-4]"
   ]
  },
  {
   "cell_type": "code",
   "execution_count": null,
   "metadata": {},
   "outputs": [],
   "source": [
    "e[1:]"
   ]
  },
  {
   "cell_type": "code",
   "execution_count": null,
   "metadata": {},
   "outputs": [],
   "source": [
    "e[:-2]"
   ]
  },
  {
   "cell_type": "code",
   "execution_count": null,
   "metadata": {},
   "outputs": [],
   "source": [
    "e[::2]"
   ]
  },
  {
   "cell_type": "code",
   "execution_count": null,
   "metadata": {},
   "outputs": [],
   "source": [
    "e[::-1]"
   ]
  },
  {
   "cell_type": "markdown",
   "metadata": {},
   "source": [
    "### -split()"
   ]
  },
  {
   "cell_type": "code",
   "execution_count": null,
   "metadata": {},
   "outputs": [],
   "source": [
    "f = 'Python is a good programming language'\n",
    "print(f.split())"
   ]
  },
  {
   "cell_type": "markdown",
   "metadata": {},
   "source": [
    "### - 공백없애기\n",
    "strip(), lstrip(), rstrip()\n",
    "### - 대소문자 바꾸기\n",
    "upper(), lower()\n",
    "### 합치기 <-> split\n",
    "join()"
   ]
  },
  {
   "cell_type": "markdown",
   "metadata": {},
   "source": [
    "## List\n",
    "- list는 자료들의 모임입니다.  \n",
    "- 입력된 순서가 유지 됩니다.  \n",
    "- list() 생성자나 []로 리스트를 만듭니다.\n",
    "- 어떤 자료 형도 저장이 가능합니다."
   ]
  },
  {
   "cell_type": "code",
   "execution_count": null,
   "metadata": {},
   "outputs": [],
   "source": [
    "list1 = list()\n",
    "list2 = []\n",
    "list3 = [1]\n",
    "list4 = [1,3,\"hi\", False]\n",
    "list5 = [1, \"hi\", [1,2], True]"
   ]
  },
  {
   "cell_type": "markdown",
   "metadata": {},
   "source": [
    "### - 리스트의 길이, 추가, 삽입, 수정\n",
    "- len() 함수를 이용하여 요소 개수를 얻을 수 있습니다.\n",
    "- [n:m] 값을 이용하여 접근이 가능합니다.\n",
    "- append() 메서드를 이용하여 추가가 가능합니다.\n",
    "- insert() 메서드를 이용하여 삽입이 가능합니다.\n",
    "- remove() 메서드를 이용하여 삭제가 가능합니다.\n",
    "- clear() 메서드를 이용하여 모든 요소 삭제가 가능합니다."
   ]
  },
  {
   "cell_type": "code",
   "execution_count": null,
   "metadata": {},
   "outputs": [],
   "source": [
    "from1to10 = [4,2,1,6, 3,3]\n",
    "\n",
    "len(from1to10)\n",
    "from1to10[2:]\n",
    "print(from1to10)\n",
    "from1to10.append(2.5)\n",
    "print(from1to10)\n",
    "from1to10.insert(3, 4)\n",
    "print(from1to10)\n",
    "# from1to10.remove(0)\n",
    "from1to10.remove(1)\n",
    "print(from1to10)\n",
    "from1to10.clear()\n",
    "print(from1to10)"
   ]
  },
  {
   "cell_type": "markdown",
   "metadata": {},
   "source": [
    "### - 정렬, 뒤집기, 복사\n",
    "- reverse()메서드를 이용하여 뒤집기가 가능합니다.\n",
    "- sort() 메서드를 이용하여 정렬이 가능합니다.\n",
    "- sorted() 함수를 이용하여 정렬이 가능합니다.\n",
    "- copy() 메서드를 이용하여 복사가 가능합니다.\n",
    "\n",
    "비교가능한 자료형으로만 이루어진 리스트만 sorting 가능."
   ]
  },
  {
   "cell_type": "code",
   "execution_count": null,
   "metadata": {},
   "outputs": [],
   "source": [
    "from1to10 = [4,2,1,6,3,3]\n",
    "from1to10.reverse()\n",
    "print(from1to10)\n",
    "from1to10.sort()\n",
    "print(from1to10)\n",
    "from1to10.sort(reverse = True)\n",
    "print(from1to10)"
   ]
  },
  {
   "cell_type": "markdown",
   "metadata": {},
   "source": [
    "#### sort() 와 sorted() 의 차이 \n",
    "sort()는 call 된 변수를 바꿈. sorted()는 sorting 된 새로운 리스트를 반환."
   ]
  },
  {
   "cell_type": "code",
   "execution_count": null,
   "metadata": {},
   "outputs": [],
   "source": [
    "from1to10 = [4,2,1,6,3,3]\n",
    "print(sorted(from1to10))\n",
    "print(from1to10)\n",
    "\n",
    "from1to10.sort()\n",
    "print(from1to10)"
   ]
  },
  {
   "cell_type": "code",
   "execution_count": null,
   "metadata": {},
   "outputs": [],
   "source": [
    "list1 = [4,2,1,6,3,3]\n",
    "# shallow copy : copy address of the variable\n",
    "list2 = list1\n",
    "list2.sort()\n",
    "print(list2)\n",
    "print(list1)\n",
    "\n",
    "list1 = [4,2,1,6,3,3]\n",
    "# deep copy : copy the value of the variable\n",
    "list2 = list1.copy()\n",
    "list2.sort()\n",
    "print(list2)\n",
    "print(list1)"
   ]
  },
  {
   "cell_type": "markdown",
   "metadata": {},
   "source": [
    "## 4. 백준\n",
    "### [연습문제 : 고양이](https://www.acmicpc.net/problem/10171)  \n",
    "### [연습문제 : 사칙연산](https://www.acmicpc.net/problem/10869)"
   ]
  }
 ],
 "metadata": {
  "kernelspec": {
   "display_name": "Python 3",
   "language": "python",
   "name": "python3"
  },
  "language_info": {
   "codemirror_mode": {
    "name": "ipython",
    "version": 3
   },
   "file_extension": ".py",
   "mimetype": "text/x-python",
   "name": "python",
   "nbconvert_exporter": "python",
   "pygments_lexer": "ipython3",
   "version": "3.8.3"
  }
 },
 "nbformat": 4,
 "nbformat_minor": 4
}
